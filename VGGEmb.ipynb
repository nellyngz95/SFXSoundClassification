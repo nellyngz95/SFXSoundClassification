{
 "cells": [
  {
   "cell_type": "code",
   "execution_count": 2,
   "metadata": {},
   "outputs": [],
   "source": [
    "import torch\n",
    "import urllib\n",
    "import torchaudio\n",
    "import glob\n",
    "import os   \n",
    "import numpy as np  \n",
    "import pandas as pd\n",
    "from torchaudio.prototype.pipelines import VGGISH\n",
    "import torchaudio.functional as taF"
   ]
  },
  {
   "cell_type": "code",
   "execution_count": 11,
   "metadata": {},
   "outputs": [],
   "source": [
    "device = torch.device(\"cuda\" if torch.cuda.is_available() else \"cpu\")"
   ]
  },
  {
   "cell_type": "code",
   "execution_count": 12,
   "metadata": {},
   "outputs": [
    {
     "name": "stdout",
     "output_type": "stream",
     "text": [
      "total files processed:  1630\n"
     ]
    }
   ],
   "source": [
    "model = VGGISH.get_model().to(device)\n",
    "\n",
    "\n",
    "model.eval()\n",
    "\n",
    "def vggish_melspectrogram(audio_path):\n",
    "    melspec_proc = VGGISH.get_input_processor()\n",
    "    waveform, original_rate = torchaudio.load(audio_path)\n",
    "    waveform = waveform.squeeze(0)\n",
    "    waveform = torchaudio.functional.resample(waveform, original_rate, VGGISH.sample_rate)\n",
    "    melspec = melspec_proc(waveform)\n",
    "    return melspec\n",
    "\n",
    "#Extracts the features from the audio file\n",
    "#ypou can replace the filename with the path to your own audio file\n",
    "file_dir= '/Users/nellygarcia/Documents/InformationRetrivalPhd/Dataset'\n",
    "embeddings = '/Users/nellygarcia/Documents/GitHub/PythonNelly/VGGSoundClassification/embeddings'\n",
    "if not os.path.exists(embeddings):\n",
    "    os.mkdir(embeddings)    \n",
    "\n",
    "for  index, file_path in enumerate (glob.glob(f\"{file_dir}/**/*.wav\", recursive=True)):\n",
    "    #waveform, sample_rate = torchaudio.load(file_path)\n",
    "    melspec = vggish_melspectrogram(file_path)\n",
    "    features = model(melspec)\n",
    "    \n",
    "    embedding = features.detach()\n",
    "    fname = os.path.basename(file_path).split('.')[0]\n",
    "    torch.save(embedding, f\"{embeddings}/{fname}.pt\")\n",
    "    #numpy() #convert them to an array ?? The kernel crashes when I try to convert them to a tensor  \n",
    "#\n",
    "print(\"total files processed: \", index+1)"
   ]
  },
  {
   "cell_type": "code",
   "execution_count": 14,
   "metadata": {},
   "outputs": [
    {
     "data": {
      "text/plain": [
       "torch.Size([5, 128])"
      ]
     },
     "execution_count": 14,
     "metadata": {},
     "output_type": "execute_result"
    }
   ],
   "source": [
    "l=torch.load('/Users/nellygarcia/Documents/GitHub/PythonNelly/VGGSoundClassification/embeddings/f_n_GunshotRealtwotimes10-15.pt')\n",
    "l.shape"
   ]
  }
 ],
 "metadata": {
  "kernelspec": {
   "display_name": "Python 3",
   "language": "python",
   "name": "python3"
  },
  "language_info": {
   "codemirror_mode": {
    "name": "ipython",
    "version": 3
   },
   "file_extension": ".py",
   "mimetype": "text/x-python",
   "name": "python",
   "nbconvert_exporter": "python",
   "pygments_lexer": "ipython3",
   "version": "3.9.13"
  }
 },
 "nbformat": 4,
 "nbformat_minor": 2
}
